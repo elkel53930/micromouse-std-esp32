{
 "cells": [
  {
   "cell_type": "code",
   "execution_count": null,
   "id": "acc87f76-bde3-40c5-9d46-1330271c4c39",
   "metadata": {},
   "outputs": [],
   "source": [
    "import numpy as np\n",
    "import pandas as pd\n",
    "from ipywidgets import interact, Dropdown, IntSlider, FloatSlider\n",
    "import matplotlib.pyplot as plt\n",
    "%matplotlib inline\n",
    "\n",
    "# Load log.csv with pandas\n",
    "df = pd.read_csv('../downloads/log.csv')\n",
    "labels = df.columns[1:]\n",
    "\n",
    "# Get the middle time\n",
    "time_min = df['time'].min()\n",
    "time_max = df['time'].max()\n",
    "time_middle = (time_min + time_max) / 2\n",
    "\n",
    "def show_plot(label1, label2, label3, label4, time_s, range_s):\n",
    "    fig = plt.figure(figsize=(12, 12))\n",
    "    ax1 = plt.subplot2grid((2, 2), (0, 0), rowspan=2)\n",
    "    ax2 = plt.subplot2grid((2, 2), (0, 1))\n",
    "    ax3 = plt.subplot2grid((2, 2), (1, 1))\n",
    "    \n",
    "    # Plot lines instead of scatter\n",
    "    ax1.plot(df['x'], df['y'], label=\"Data points\")\n",
    "    selected_time = df[df['time'] == time_s]\n",
    "    if not selected_time.empty:\n",
    "        ax1.plot(selected_time['x'], selected_time['y'], 'ro', label=f'Selected time: {time_s}')\n",
    "    ax1.axis('equal')\n",
    "    ax1.legend()\n",
    "    \n",
    "    # Time series plot 1\n",
    "    ax2.plot(df['time'], df[label1], label=label1)\n",
    "    ax2.plot(df['time'], df[label2], label=label2)\n",
    "    ax2.axvline(x=time_s, color='red', linestyle='--', label=f'Time: {time_s}')\n",
    "    ax2.set_xlim(time_s - range_s / 2, time_s + range_s / 2)\n",
    "    ax2.legend()\n",
    "    \n",
    "    # Time series plot 2\n",
    "    ax3.plot(df['time'], df[label3], label=label3)\n",
    "    ax3.plot(df['time'], df[label4], label=label4)\n",
    "    ax3.axvline(x=time_s, color='red', linestyle='--', label=f'Time: {time_s}')\n",
    "    ax3.set_xlim(time_s - range_s / 2, time_s + range_s / 2)\n",
    "    ax3.legend()\n",
    "    \n",
    "    plt.show()\n",
    "\n",
    "label_dd1 = Dropdown(description='Label:', options=list(labels))\n",
    "label_dd2 = Dropdown(description='Label:', options=list(labels))\n",
    "label_dd3 = Dropdown(description='Label:', options=list(labels))\n",
    "label_dd4 = Dropdown(description='Label:', options=list(labels))\n",
    "time_slider = IntSlider(value=int(time_middle), min=int(time_min), max=int(time_max), description=\"time\")\n",
    "range_slider = FloatSlider(value=float(time_max - time_min), min=1.0, max=float(time_max - time_min), step=0.1, description='Range')\n",
    "\n",
    "interact(show_plot, label1=label_dd1, label2=label_dd2, label3=label_dd3, label4=label_dd4, time_s=time_slider, range_s=range_slider)\n"
   ]
  }
 ],
 "metadata": {
  "kernelspec": {
   "display_name": "Python 3 (ipykernel)",
   "language": "python",
   "name": "python3"
  },
  "language_info": {
   "codemirror_mode": {
    "name": "ipython",
    "version": 3
   },
   "file_extension": ".py",
   "mimetype": "text/x-python",
   "name": "python",
   "nbconvert_exporter": "python",
   "pygments_lexer": "ipython3",
   "version": "3.10.12"
  }
 },
 "nbformat": 4,
 "nbformat_minor": 5
}
